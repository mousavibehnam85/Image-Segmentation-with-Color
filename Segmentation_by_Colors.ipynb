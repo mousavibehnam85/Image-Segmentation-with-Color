{
 "cells": [
  {
   "cell_type": "code",
   "execution_count": null,
   "id": "157efc2b-0a13-4902-8ced-33c7aabaea5b",
   "metadata": {},
   "outputs": [],
   "source": [
    "import cv2\n",
    "import numpy as np\n",
    "\n",
    "# Load an image\n",
    "image_path = 'Woman_at_Beach.png'\n",
    "image = cv2.imread(image_path)\n",
    "\n",
    "# Convert the image to HSV color space\n",
    "hsv_image = cv2.cvtColor(image, cv2.COLOR_BGR2HSV)\n",
    "\n",
    "# Define the lower and upper bounds for the color you want to segment (e.g., red dress)\n",
    "lower_bound = np.array([0, 15, 100], dtype=np.uint8)\n",
    "upper_bound = np.array([20, 255, 255], dtype=np.uint8)\n",
    "\n",
    "# Create a binary mask based on the color range\n",
    "mask = cv2.inRange(hsv_image, lower_bound, upper_bound)\n",
    "\n",
    "# Find contours in the binary mask\n",
    "contours, _ = cv2.findContours(mask, cv2.RETR_EXTERNAL, cv2.CHAIN_APPROX_SIMPLE)\n",
    "\n",
    "# Create a blank image to draw contours\n",
    "contour_image = np.zeros_like(image)\n",
    "\n",
    "# Draw contours in black and white on the blank image\n",
    "cv2.drawContours(contour_image, contours, -1, (255), thickness=cv2.FILLED)\n",
    "\n",
    "# Create a blank image to paste the objects inside contours\n",
    "output_image = np.zeros_like(image)\n",
    "\n",
    "# Extract and paste each object based on the contours\n",
    "for i, contour in enumerate(contours):\n",
    "    # Create a mask for the current contour\n",
    "    mask_contour = np.zeros_like(mask)\n",
    "    cv2.drawContours(mask_contour, [contour], -1, 255, thickness=cv2.FILLED)\n",
    "    \n",
    "    # Extract the object using the mask\n",
    "    object_extracted = cv2.bitwise_and(image, image, mask=mask_contour)\n",
    "    \n",
    "    # Paste the object into the output image\n",
    "    output_image = cv2.add(output_image, object_extracted)\n",
    "\n",
    "# Display the results\n",
    "cv2.imshow('Contours', contour_image)\n",
    "cv2.imshow('Objects Pasted Inside Contours', output_image)\n",
    "\n",
    "cv2.waitKey(0)\n",
    "cv2.destroyAllWindows()"
   ]
  },
  {
   "cell_type": "code",
   "execution_count": null,
   "id": "a7d241f9-9652-4ca2-b267-7bd240092b13",
   "metadata": {},
   "outputs": [],
   "source": []
  },
  {
   "cell_type": "code",
   "execution_count": null,
   "id": "a45c5cbe-5538-4ac8-982c-cf8ac4ad6ac5",
   "metadata": {},
   "outputs": [],
   "source": []
  }
 ],
 "metadata": {
  "kernelspec": {
   "display_name": "Python 3.9",
   "language": "python",
   "name": "python3.9"
  },
  "language_info": {
   "codemirror_mode": {
    "name": "ipython",
    "version": 3
   },
   "file_extension": ".py",
   "mimetype": "text/x-python",
   "name": "python",
   "nbconvert_exporter": "python",
   "pygments_lexer": "ipython3",
   "version": "3.9.18"
  }
 },
 "nbformat": 4,
 "nbformat_minor": 5
}
